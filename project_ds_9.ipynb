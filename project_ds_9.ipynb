{
 "cells": [
  {
   "cell_type": "markdown",
   "metadata": {},
   "source": [
    "# Прогнозирование оттока клиентов в сети отелей «Как в гостях»"
   ]
  },
  {
   "cell_type": "markdown",
   "metadata": {},
   "source": [
    "### Описание проекта"
   ]
  },
  {
   "cell_type": "markdown",
   "metadata": {},
   "source": [
    "### Столбцы"
   ]
  },
  {
   "cell_type": "markdown",
   "metadata": {},
   "source": [
    "|Столбец|Описание|Возможные значения/Примечание|\n",
    "|--|--|--|\n",
    "|`id`|номер записи||\n",
    "|`adults`|количество взрослых постояльцев||\n",
    "|`arrival_date_year`|год заезда||\n",
    "|`arrival_date_month`|месяц заезда||\n",
    "|`arrival_date_week_number`|неделя заезда||\n",
    "|`babies`|количество младенцев||\n",
    "|`arrival_date_day_of_month`|день заезда||\n",
    "|`booking_changes`|количество изменений параметров заказа||\n",
    "|`children`|количество детей от 3 до 14 лет||\n",
    "|`country`|гражданство постояльца||\n",
    "|`customer_type`|тип заказчика|`Contract`-договор с юридическим лицом;  `Group`-групповой заезд,  `Transient`-не связано с договором или групповым заездом;  `Transient-party` — не связано с договором или групповым заездом, но связано с бронированием типа `Transient`|\n",
    "|`days_in_waiting_list`|сколько дней заказ ожидал подтверждения||\n",
    "|`distribution_channel`|канал дистрибуции заказа||\n",
    "|`is_canceled`|отмена заказа|**Целевой признак**|\n",
    "|`is_repeated_guest`|признак того, что гость бронирует номер второй раз||\n",
    "|`lead_time`|количество дней между датой бронирования и датой прибытия||\n",
    "|`meal`|опции заказа|`SC`-нет дополнительных опций; `BB`-включён завтрак; `HB` -включён завтрак и обед, `FB`-включён завтрак, обед и ужин.|\n",
    "|`previous_bookings_not_canceled`|количество подтверждённых заказов у клиента||\n",
    "|`previous_cancellations`|количество отменённых заказов у клиента||\n",
    "|`required_car_parking_spaces`|необходимость места для автомобиля||\n",
    "|`reserved_room_type`|тип забронированной комнаты||\n",
    "|`stays_in_weekend_nights`|количество ночей в выходные дни||\n",
    "|`stays_in_week_nights`|количество ночей в будние дни||\n",
    "|`total_nights`|общее количество ночей||\n",
    "|`total_of_special_requests`|количество специальных отметок.||"
   ]
  },
  {
   "cell_type": "markdown",
   "metadata": {},
   "source": [
    "### Функции без функциональности"
   ]
  },
  {
   "cell_type": "code",
   "execution_count": 1,
   "metadata": {},
   "outputs": [],
   "source": [
    "def decoratore_print_separator(text):\n",
    "    '''Лучше не вникать. читал на днях про декораторы, решил попробовать пострадать фигней\n",
    "    для красивого вывода информации'''\n",
    "    def decorator_func(func):\n",
    "        @wraps(func)\n",
    "        def inner(*args, **kwargs):\n",
    "            nonlocal text\n",
    "            if args[0].name == 'train':\n",
    "                part_text = ' в обучающей выборки'\n",
    "            elif args[0].name == 'test':\n",
    "                part_text = ' в тестовой выборки'\n",
    "            else:\n",
    "                part_text = ''\n",
    "            len_txt = (80 - len(text) - len(part_text) + 2) // 2\n",
    "            final_txt = '\\n'\n",
    "            if (len(text) + len(part_text)) % 2 == 1:\n",
    "                final_txt += '-'\n",
    "            for _ in range(len_txt):\n",
    "                final_txt += '-'\n",
    "            final_txt += f' {text} {part_text}'\n",
    "            for _ in range(len_txt):\n",
    "                final_txt += '-'\n",
    "            final_txt += '\\n'\n",
    "            print(final_txt)\n",
    "            return func(*args, **kwargs)\n",
    "        return inner\n",
    "    return decorator_func"
   ]
  },
  {
   "cell_type": "markdown",
   "metadata": {},
   "source": [
    "### Шаг 1. Откройте файлы с данными"
   ]
  },
  {
   "cell_type": "code",
   "execution_count": 2,
   "metadata": {},
   "outputs": [],
   "source": [
    "import pandas as pd\n",
    "import pandas_profiling\n",
    "from sklearn.model_selection import GridSearchCV\n",
    "from sklearn.ensemble import RandomForestClassifier\n",
    "from sklearn.tree import DecisionTreeClassifier\n",
    "from sklearn.linear_model import LogisticRegression\n",
    "from sklearn.preprocessing import OrdinalEncoder, StandardScaler, OneHotEncoder\n",
    "from sklearn.metrics import roc_auc_score, roc_curve, plot_roc_curve, recall_score, \\\n",
    "    precision_score, confusion_matrix, accuracy_score, ConfusionMatrixDisplay, f1_score\n",
    "from sklearn.svm import SVC\n",
    "import matplotlib.pyplot as plt\n",
    "import matplotlib\n",
    "from functools import wraps\n",
    "import numpy as np\n",
    "\n",
    "\n",
    "matplotlib.style.use('seaborn-pastel')\n",
    "pd.options.mode.chained_assignment = None\n"
   ]
  },
  {
   "cell_type": "code",
   "execution_count": 3,
   "metadata": {},
   "outputs": [],
   "source": [
    "class Hotel():\n",
    "    def __init__(self, path: str, name: str):\n",
    "        '''.show_profile() - показывает информацию с помощью pandas_profiling\n",
    "        '''\n",
    "        self.path = path\n",
    "        self.name = name\n",
    "        self.read_csv_file()\n",
    "        aaa = self.name\n",
    "    \n",
    "    def read_csv_file(self):\n",
    "        '''Чтения файла\n",
    "\n",
    "        Args:\n",
    "            path (str): Путь к файлу\n",
    "        '''\n",
    "        try:\n",
    "            self.df = pd.read_csv(self.path)\n",
    "        except:\n",
    "            self.df = pd.read_csv(f'/datasets/{self.path}')\n",
    "    \n",
    "    \n",
    "    def show_profile(self, html_file=False):\n",
    "        '''Показывает EDA аналитику, если html_file=True, генерирует отчет в html файл\n",
    "        в формате {Название экземпляра класса}.html иначе выводит widget в JupyterNotebook\n",
    "\n",
    "        Args:\n",
    "            html_file (bool, optional):\n",
    "        '''\n",
    "        report = pandas_profiling.ProfileReport(self.df, explorative=True)\n",
    "        if html_file:\n",
    "            name_file = self.path.replace('.csv', '')\n",
    "            report.to_file(f'{name_file}.html')\n",
    "        else:\n",
    "            report.to_widgets() "
   ]
  },
  {
   "cell_type": "code",
   "execution_count": 4,
   "metadata": {},
   "outputs": [
    {
     "name": "stderr",
     "output_type": "stream",
     "text": [
      "Summarize dataset: 100%|██████████| 159/159 [00:46<00:00,  3.39it/s, Completed]                                                             \n",
      "Generate report structure: 100%|██████████| 1/1 [00:10<00:00, 10.60s/it]\n",
      "                                                             \r"
     ]
    },
    {
     "data": {
      "application/vnd.jupyter.widget-view+json": {
       "model_id": "addf91309b124ef8a7ac24b181d39b10",
       "version_major": 2,
       "version_minor": 0
      },
      "text/plain": [
       "VBox(children=(Tab(children=(Tab(children=(GridBox(children=(VBox(children=(GridspecLayout(children=(HTML(valu…"
      ]
     },
     "metadata": {},
     "output_type": "display_data"
    }
   ],
   "source": [
    "test = Hotel('hotel_test.csv', 'test')\n",
    "train = Hotel('hotel_train.csv', 'train')\n",
    "train.show_profile(html_file=False) "
   ]
  },
  {
   "cell_type": "markdown",
   "metadata": {},
   "source": [
    "Посмотрев на данные в jupyter_viewer(vscode), сразу видно, что надо будет применять кодирование, переводить месяцы в числа, масштабировать, в связи с этим правильнее всего объединить данные, произвести Предобработку, а потом обратно соединить"
   ]
  },
  {
   "cell_type": "markdown",
   "metadata": {},
   "source": [
    "### План по столбцам"
   ]
  },
  {
   "cell_type": "code",
   "execution_count": 5,
   "metadata": {},
   "outputs": [
    {
     "data": {
      "text/plain": [
       "True"
      ]
     },
     "execution_count": 5,
     "metadata": {},
     "output_type": "execute_result"
    }
   ],
   "source": [
    "# Дополнительные проверки\n",
    "train.df['stays_in_weekend_nights'].sum() + train.df['stays_in_week_nights'].sum() == train.df['total_nights'].sum()"
   ]
  },
  {
   "cell_type": "code",
   "execution_count": 6,
   "metadata": {},
   "outputs": [
    {
     "name": "stdout",
     "output_type": "stream",
     "text": [
      "1543 1771\n",
      "1263\n"
     ]
    }
   ],
   "source": [
    "print(len(train.df.query('previous_bookings_not_canceled != 0')), len(train.df.query('is_repeated_guest != 0')))\n",
    "print(len(train.df.query('previous_bookings_not_canceled != 0 and is_repeated_guest != 0')))"
   ]
  },
  {
   "cell_type": "markdown",
   "metadata": {},
   "source": [
    "- `id` - удалить, обучению не поможет  \n",
    "- `arrival_date_year` - колебания туристов из года в год могут происходить из-за разных полит. факторов, маркетинга и т.п. и так как делаем прогноз на будущее, то данный признак имеет смысл удалить  \n",
    "- `arrival_date_month` - необходимо перекодировать  \n",
    "- `arrival_date_week_number` - очень большая корреляция с arrival_date_month и по сути признак дублирует предыдущий. удаляем  \n",
    "- `arrival_date_day_of_month` - если бы еще был день недели, то имело бы смысл оставить... Стоит отметить что в тестовой выборке только 8мес. и если надо перевести в год, то не забываем умножать на 1.5  \n",
    "- **из дня/месяца/года** надо достать сначало день недели и потом удалить.  \n",
    "- `adults` - есть нулевые значения, заменим на единичку. Редкие значение перенесем в более часто встречающийся\n",
    "- `children` - есть редкие значения(3ребенка - 16раз встречается), также сгруппируем\n",
    "- `babies` - есть редкие значения и парочка выбросов, заменим на 1ребенка (сгруппируем)\n",
    "- `meal` - записано криво с какими то пробелами, от этого SC дублируется. надо почистить а затем перекодировать (перед обучением)\n",
    "- `distibution_channel` - перекодировать (перед обучением)\n",
    "- `country` - Значения которые встречаются реже n раз... группируем в `other`, затем кодируем (перед обучением)\n",
    "- `is_repeated_guest`, `previous_bookings_not_canceled` - очень похожи по описанию и вроде должна быть 100% линейная зависимость, но что то не совсем так... оставлю\n",
    "`required_car_parking_spaces` - есть парочка редких значений(2/3) переведем в 1  \n",
    "`total_nights` - бестолоковый признак, т.к. по сути является суммой выходные+будние дни. удаляем\n"
   ]
  },
  {
   "cell_type": "markdown",
   "metadata": {},
   "source": [
    "### Шаг 2. Предобработка и исследовательский анализ данных"
   ]
  },
  {
   "cell_type": "code",
   "execution_count": 7,
   "metadata": {},
   "outputs": [],
   "source": [
    "class Preprocessing(Hotel):\n",
    "    def __init__(self, hotel: Hotel):\n",
    "        self.df = hotel.df\n",
    "        self.name = hotel.name\n",
    "        self.change_strip_problems()\n",
    "        self.change_month()\n",
    "        self.data_preprocessing()\n",
    "        self.delete_columns(\n",
    "            ['id', 'year', 'day', 'arrival_date_week_number', 'total_nights'])\n",
    "\n",
    "    def merge_values(self, x: pd.Series):\n",
    "        '''\n",
    "            x (pd.Series): values_counts_before_change\n",
    "            return function(y, head, n)\n",
    "        '''\n",
    "        x = self.df[x].value_counts(ascending=True).sort_values(ascending=False).reset_index()\n",
    "        x.columns = ['before', 'count_before']\n",
    "\n",
    "        def inner(y: pd.Series, head=True, n=5):\n",
    "            ''' Выводит на дисплей объединенной df - before | after\n",
    "            y (pd.Series): values_counts_after_change\n",
    "            n (int): длину возвращаемой таблицы, default=5\n",
    "            head (bool): true - выведет head(n), иначе tail(n)\n",
    "\n",
    "            '''\n",
    "            nonlocal x\n",
    "            y = self.df[y].value_counts(ascending=True).sort_values(ascending=False).reset_index()\n",
    "            y.columns = ['after', 'count_after']\n",
    "            if head:\n",
    "                display(pd.concat([x, y], ignore_index=False, axis=1).head(n))\n",
    "            else:\n",
    "                display(pd.concat([x, y], ignore_index=False, axis=1).tail(n))\n",
    "\n",
    "        return inner\n",
    "\n",
    "    @decoratore_print_separator('Поменял месяца')\n",
    "    def change_month(self):\n",
    "        display_changing = self.merge_values('arrival_date_month')\n",
    "        change = {'January': 1, 'February': 2, 'March': 3,\n",
    "                  'April': 4, 'May': 5, 'June': 6,\n",
    "                  'July': 7, 'August': 8, 'September': 9,\n",
    "                  'October': 10, 'November': 11, 'December': 12}\n",
    "        self.df['arrival_date_month'] = self.df['arrival_date_month'].replace(\n",
    "            change)\n",
    "        display_changing('arrival_date_month')\n",
    "\n",
    "    @decoratore_print_separator('Получили столбец с днями недели')\n",
    "    def data_preprocessing(self):\n",
    "        '''Излекает дни недели из df, удаляет стобцы недель/дней в месяцу/года\n",
    "        Рисует гистограмму\n",
    "        '''\n",
    "        dict_rename_columns = {\n",
    "            'arrival_date_year': 'year',\n",
    "            'arrival_date_month': 'month',\n",
    "            'arrival_date_day_of_month': 'day'\n",
    "        }\n",
    "        self.df.rename(columns=dict_rename_columns, inplace=True)\n",
    "        self.df['weekday'] = pd.to_datetime(\n",
    "            self.df[['year', 'month', 'day']]).dt.weekday\n",
    "        self.df['weekday'].plot(kind='hist', bins=7,\n",
    "                                title='Заезды по дням неделям')\n",
    "        plt.show()\n",
    "\n",
    "    def delete_columns(self, columns_for_del):\n",
    "        self.df.drop(columns=columns_for_del, inplace=True)\n",
    "        print(f'Удалены следующие стобцы: {columns_for_del}')\n",
    "\n",
    "    @decoratore_print_separator('Заменено')\n",
    "    def group_smallest_values(self, show=True):\n",
    "        '''Метод для удаления редких значений\n",
    "        '''\n",
    "        list_for_changing = [\n",
    "            ['adults', lambda row: 1 if row == 0 else row],\n",
    "            ['adults', lambda row: 3 if row == 4 else row],\n",
    "            ['children', lambda row: 2 if row == 3 else row],\n",
    "            ['babies', lambda row: 1 if row > 1 else row],\n",
    "            ['required_car_parking_spaces', lambda row: 1 if row > 1 else row]]\n",
    "        for col, func in list_for_changing:\n",
    "            self.change_value(col, func, show)\n",
    "        # self.change_value('adults', lambda row: 1 if row == 0 else row)\n",
    "\n",
    "    def change_value(self, column, func, show):\n",
    "        print(column)\n",
    "        if show: display_change = self.merge_values(column)\n",
    "        self.df[column] = self.df[column].apply(func)\n",
    "        if show: display_change(column)\n",
    "        \n",
    "    @decoratore_print_separator('Убираем пробелы')    \n",
    "    def change_strip_problems(self):\n",
    "        '''Удаляет пробелы во всех категориальных признаках\n",
    "\n",
    "        Args:\n",
    "            show (bool): Если Тrue: выводит таблицу before | after, иначе не выводит\n",
    "        '''\n",
    "        columns_for_del_strips = ('meal', 'reserved_room_type', 'country', 'customer_type', 'distribution_channel')\n",
    "        for column in columns_for_del_strips:\n",
    "            print(f'Удаленны пробелы в колонке {column}')\n",
    "            self.df[column] = self.df[column].str.strip()\n",
    "\n",
    "        \n",
    "    @decoratore_print_separator('Объединяем редкие страны')\n",
    "    def group_countries(self, value):\n",
    "        '''Страны которые встречаются реже чем \"value\" переименовывает в \"other\"\n",
    "\n",
    "        Args:\n",
    "            value (int): Лимит при котором страну считать \"редкой\"\n",
    "        '''\n",
    "        \n",
    "        print(f'Было уникальных стран: {len(self.df[\"country\"].unique())}')\n",
    "        country_counts = self.df.groupby('country')['is_canceled'].count()\n",
    "        self.df['country'] = self.df['country'].apply(lambda row: 'other' if country_counts[row] < value else row)\n",
    "        print(f'Стало уникальных стран: {len(self.df[\"country\"].unique())}')\n",
    "        print(f'Страна считается редкой, если посетило меньше {value} туристов, за исследуемый период')\n",
    " "
   ]
  },
  {
   "cell_type": "markdown",
   "metadata": {},
   "source": [
    "### Предобработка"
   ]
  },
  {
   "cell_type": "code",
   "execution_count": 8,
   "metadata": {},
   "outputs": [
    {
     "name": "stdout",
     "output_type": "stream",
     "text": [
      "\n",
      "------------------------ Убираем пробелы  в обучающей выборки-----------------------\n",
      "\n",
      "Удаленны пробелы в колонке meal\n",
      "Удаленны пробелы в колонке reserved_room_type\n",
      "Удаленны пробелы в колонке country\n",
      "Удаленны пробелы в колонке customer_type\n",
      "Удаленны пробелы в колонке distribution_channel\n",
      "\n",
      "------------------------ Поменял месяца  в обучающей выборки------------------------\n",
      "\n"
     ]
    },
    {
     "data": {
      "text/html": [
       "<div>\n",
       "<style scoped>\n",
       "    .dataframe tbody tr th:only-of-type {\n",
       "        vertical-align: middle;\n",
       "    }\n",
       "\n",
       "    .dataframe tbody tr th {\n",
       "        vertical-align: top;\n",
       "    }\n",
       "\n",
       "    .dataframe thead th {\n",
       "        text-align: right;\n",
       "    }\n",
       "</style>\n",
       "<table border=\"1\" class=\"dataframe\">\n",
       "  <thead>\n",
       "    <tr style=\"text-align: right;\">\n",
       "      <th></th>\n",
       "      <th>before</th>\n",
       "      <th>count_before</th>\n",
       "      <th>after</th>\n",
       "      <th>count_after</th>\n",
       "    </tr>\n",
       "  </thead>\n",
       "  <tbody>\n",
       "    <tr>\n",
       "      <th>0</th>\n",
       "      <td>October</td>\n",
       "      <td>9255</td>\n",
       "      <td>10</td>\n",
       "      <td>9255</td>\n",
       "    </tr>\n",
       "    <tr>\n",
       "      <th>1</th>\n",
       "      <td>September</td>\n",
       "      <td>8782</td>\n",
       "      <td>9</td>\n",
       "      <td>8782</td>\n",
       "    </tr>\n",
       "    <tr>\n",
       "      <th>2</th>\n",
       "      <td>August</td>\n",
       "      <td>6678</td>\n",
       "      <td>8</td>\n",
       "      <td>6678</td>\n",
       "    </tr>\n",
       "    <tr>\n",
       "      <th>3</th>\n",
       "      <td>November</td>\n",
       "      <td>5761</td>\n",
       "      <td>11</td>\n",
       "      <td>5761</td>\n",
       "    </tr>\n",
       "    <tr>\n",
       "      <th>4</th>\n",
       "      <td>July</td>\n",
       "      <td>5718</td>\n",
       "      <td>7</td>\n",
       "      <td>5718</td>\n",
       "    </tr>\n",
       "  </tbody>\n",
       "</table>\n",
       "</div>"
      ],
      "text/plain": [
       "      before  count_before  after  count_after\n",
       "0    October          9255     10         9255\n",
       "1  September          8782      9         8782\n",
       "2     August          6678      8         6678\n",
       "3   November          5761     11         5761\n",
       "4       July          5718      7         5718"
      ]
     },
     "metadata": {},
     "output_type": "display_data"
    },
    {
     "name": "stdout",
     "output_type": "stream",
     "text": [
      "\n",
      "---------------- Получили столбец с днями недели  в обучающей выборки---------------\n",
      "\n"
     ]
    },
    {
     "data": {
      "image/png": "[encoded data removed]",
      "text/plain": [
       "<Figure size 432x288 with 1 Axes>"
      ]
     },
     "metadata": {
      "needs_background": "light"
     },
     "output_type": "display_data"
    },
    {
     "name": "stdout",
     "output_type": "stream",
     "text": [
      "Удалены следующие стобцы: ['id', 'year', 'day', 'arrival_date_week_number', 'total_nights']\n",
      "\n",
      "--------------------------- Заменено  в обучающей выборки---------------------------\n",
      "\n",
      "adults\n"
     ]
    },
    {
     "data": {
      "text/html": [
       "<div>\n",
       "<style scoped>\n",
       "    .dataframe tbody tr th:only-of-type {\n",
       "        vertical-align: middle;\n",
       "    }\n",
       "\n",
       "    .dataframe tbody tr th {\n",
       "        vertical-align: top;\n",
       "    }\n",
       "\n",
       "    .dataframe thead th {\n",
       "        text-align: right;\n",
       "    }\n",
       "</style>\n",
       "<table border=\"1\" class=\"dataframe\">\n",
       "  <thead>\n",
       "    <tr style=\"text-align: right;\">\n",
       "      <th></th>\n",
       "      <th>before</th>\n",
       "      <th>count_before</th>\n",
       "      <th>after</th>\n",
       "      <th>count_after</th>\n",
       "    </tr>\n",
       "  </thead>\n",
       "  <tbody>\n",
       "    <tr>\n",
       "      <th>0</th>\n",
       "      <td>2.0</td>\n",
       "      <td>48980</td>\n",
       "      <td>2.0</td>\n",
       "      <td>48980.0</td>\n",
       "    </tr>\n",
       "    <tr>\n",
       "      <th>1</th>\n",
       "      <td>1.0</td>\n",
       "      <td>13212</td>\n",
       "      <td>1.0</td>\n",
       "      <td>13378.0</td>\n",
       "    </tr>\n",
       "    <tr>\n",
       "      <th>2</th>\n",
       "      <td>3.0</td>\n",
       "      <td>2858</td>\n",
       "      <td>3.0</td>\n",
       "      <td>2858.0</td>\n",
       "    </tr>\n",
       "    <tr>\n",
       "      <th>3</th>\n",
       "      <td>0.0</td>\n",
       "      <td>166</td>\n",
       "      <td>4.0</td>\n",
       "      <td>13.0</td>\n",
       "    </tr>\n",
       "    <tr>\n",
       "      <th>4</th>\n",
       "      <td>4.0</td>\n",
       "      <td>13</td>\n",
       "      <td>NaN</td>\n",
       "      <td>NaN</td>\n",
       "    </tr>\n",
       "  </tbody>\n",
       "</table>\n",
       "</div>"
      ],
      "text/plain": [
       "   before  count_before  after  count_after\n",
       "0     2.0         48980    2.0      48980.0\n",
       "1     1.0         13212    1.0      13378.0\n",
       "2     3.0          2858    3.0       2858.0\n",
       "3     0.0           166    4.0         13.0\n",
       "4     4.0            13    NaN          NaN"
      ]
     },
     "metadata": {},
     "output_type": "display_data"
    },
    {
     "name": "stdout",
     "output_type": "stream",
     "text": [
      "adults\n"
     ]
    },
    {
     "data": {
      "text/html": [
       "<div>\n",
       "<style scoped>\n",
       "    .dataframe tbody tr th:only-of-type {\n",
       "        vertical-align: middle;\n",
       "    }\n",
       "\n",
       "    .dataframe tbody tr th {\n",
       "        vertical-align: top;\n",
       "    }\n",
       "\n",
       "    .dataframe thead th {\n",
       "        text-align: right;\n",
       "    }\n",
       "</style>\n",
       "<table border=\"1\" class=\"dataframe\">\n",
       "  <thead>\n",
       "    <tr style=\"text-align: right;\">\n",
       "      <th></th>\n",
       "      <th>before</th>\n",
       "      <th>count_before</th>\n",
       "      <th>after</th>\n",
       "      <th>count_after</th>\n",
       "    </tr>\n",
       "  </thead>\n",
       "  <tbody>\n",
       "    <tr>\n",
       "      <th>0</th>\n",
       "      <td>2.0</td>\n",
       "      <td>48980</td>\n",
       "      <td>2.0</td>\n",
       "      <td>48980.0</td>\n",
       "    </tr>\n",
       "    <tr>\n",
       "      <th>1</th>\n",
       "      <td>1.0</td>\n",
       "      <td>13378</td>\n",
       "      <td>1.0</td>\n",
       "      <td>13378.0</td>\n",
       "    </tr>\n",
       "    <tr>\n",
       "      <th>2</th>\n",
       "      <td>3.0</td>\n",
       "      <td>2858</td>\n",
       "      <td>3.0</td>\n",
       "      <td>2871.0</td>\n",
       "    </tr>\n",
       "    <tr>\n",
       "      <th>3</th>\n",
       "      <td>4.0</td>\n",
       "      <td>13</td>\n",
       "      <td>NaN</td>\n",
       "      <td>NaN</td>\n",
       "    </tr>\n",
       "  </tbody>\n",
       "</table>\n",
       "</div>"
      ],
      "text/plain": [
       "   before  count_before  after  count_after\n",
       "0     2.0         48980    2.0      48980.0\n",
       "1     1.0         13378    1.0      13378.0\n",
       "2     3.0          2858    3.0       2871.0\n",
       "3     4.0            13    NaN          NaN"
      ]
     },
     "metadata": {},
     "output_type": "display_data"
    },
    {
     "name": "stdout",
     "output_type": "stream",
     "text": [
      "children\n"
     ]
    },
    {
     "data": {
      "text/html": [
       "<div>\n",
       "<style scoped>\n",
       "    .dataframe tbody tr th:only-of-type {\n",
       "        vertical-align: middle;\n",
       "    }\n",
       "\n",
       "    .dataframe tbody tr th {\n",
       "        vertical-align: top;\n",
       "    }\n",
       "\n",
       "    .dataframe thead th {\n",
       "        text-align: right;\n",
       "    }\n",
       "</style>\n",
       "<table border=\"1\" class=\"dataframe\">\n",
       "  <thead>\n",
       "    <tr style=\"text-align: right;\">\n",
       "      <th></th>\n",
       "      <th>before</th>\n",
       "      <th>count_before</th>\n",
       "      <th>after</th>\n",
       "      <th>count_after</th>\n",
       "    </tr>\n",
       "  </thead>\n",
       "  <tbody>\n",
       "    <tr>\n",
       "      <th>0</th>\n",
       "      <td>0.0</td>\n",
       "      <td>61712</td>\n",
       "      <td>0.0</td>\n",
       "      <td>61712.0</td>\n",
       "    </tr>\n",
       "    <tr>\n",
       "      <th>1</th>\n",
       "      <td>1.0</td>\n",
       "      <td>2165</td>\n",
       "      <td>1.0</td>\n",
       "      <td>2165.0</td>\n",
       "    </tr>\n",
       "    <tr>\n",
       "      <th>2</th>\n",
       "      <td>2.0</td>\n",
       "      <td>1336</td>\n",
       "      <td>2.0</td>\n",
       "      <td>1352.0</td>\n",
       "    </tr>\n",
       "    <tr>\n",
       "      <th>3</th>\n",
       "      <td>3.0</td>\n",
       "      <td>16</td>\n",
       "      <td>NaN</td>\n",
       "      <td>NaN</td>\n",
       "    </tr>\n",
       "  </tbody>\n",
       "</table>\n",
       "</div>"
      ],
      "text/plain": [
       "   before  count_before  after  count_after\n",
       "0     0.0         61712    0.0      61712.0\n",
       "1     1.0          2165    1.0       2165.0\n",
       "2     2.0          1336    2.0       1352.0\n",
       "3     3.0            16    NaN          NaN"
      ]
     },
     "metadata": {},
     "output_type": "display_data"
    },
    {
     "name": "stdout",
     "output_type": "stream",
     "text": [
      "babies\n"
     ]
    },
    {
     "data": {
      "text/html": [
       "<div>\n",
       "<style scoped>\n",
       "    .dataframe tbody tr th:only-of-type {\n",
       "        vertical-align: middle;\n",
       "    }\n",
       "\n",
       "    .dataframe tbody tr th {\n",
       "        vertical-align: top;\n",
       "    }\n",
       "\n",
       "    .dataframe thead th {\n",
       "        text-align: right;\n",
       "    }\n",
       "</style>\n",
       "<table border=\"1\" class=\"dataframe\">\n",
       "  <thead>\n",
       "    <tr style=\"text-align: right;\">\n",
       "      <th></th>\n",
       "      <th>before</th>\n",
       "      <th>count_before</th>\n",
       "      <th>after</th>\n",
       "      <th>count_after</th>\n",
       "    </tr>\n",
       "  </thead>\n",
       "  <tbody>\n",
       "    <tr>\n",
       "      <th>0</th>\n",
       "      <td>0.0</td>\n",
       "      <td>64777</td>\n",
       "      <td>0.0</td>\n",
       "      <td>64777.0</td>\n",
       "    </tr>\n",
       "    <tr>\n",
       "      <th>1</th>\n",
       "      <td>1.0</td>\n",
       "      <td>447</td>\n",
       "      <td>1.0</td>\n",
       "      <td>452.0</td>\n",
       "    </tr>\n",
       "    <tr>\n",
       "      <th>2</th>\n",
       "      <td>2.0</td>\n",
       "      <td>3</td>\n",
       "      <td>NaN</td>\n",
       "      <td>NaN</td>\n",
       "    </tr>\n",
       "    <tr>\n",
       "      <th>3</th>\n",
       "      <td>10.0</td>\n",
       "      <td>1</td>\n",
       "      <td>NaN</td>\n",
       "      <td>NaN</td>\n",
       "    </tr>\n",
       "    <tr>\n",
       "      <th>4</th>\n",
       "      <td>9.0</td>\n",
       "      <td>1</td>\n",
       "      <td>NaN</td>\n",
       "      <td>NaN</td>\n",
       "    </tr>\n",
       "  </tbody>\n",
       "</table>\n",
       "</div>"
      ],
      "text/plain": [
       "   before  count_before  after  count_after\n",
       "0     0.0         64777    0.0      64777.0\n",
       "1     1.0           447    1.0        452.0\n",
       "2     2.0             3    NaN          NaN\n",
       "3    10.0             1    NaN          NaN\n",
       "4     9.0             1    NaN          NaN"
      ]
     },
     "metadata": {},
     "output_type": "display_data"
    },
    {
     "name": "stdout",
     "output_type": "stream",
     "text": [
      "required_car_parking_spaces\n"
     ]
    },
    {
     "data": {
      "text/html": [
       "<div>\n",
       "<style scoped>\n",
       "    .dataframe tbody tr th:only-of-type {\n",
       "        vertical-align: middle;\n",
       "    }\n",
       "\n",
       "    .dataframe tbody tr th {\n",
       "        vertical-align: top;\n",
       "    }\n",
       "\n",
       "    .dataframe thead th {\n",
       "        text-align: right;\n",
       "    }\n",
       "</style>\n",
       "<table border=\"1\" class=\"dataframe\">\n",
       "  <thead>\n",
       "    <tr style=\"text-align: right;\">\n",
       "      <th></th>\n",
       "      <th>before</th>\n",
       "      <th>count_before</th>\n",
       "      <th>after</th>\n",
       "      <th>count_after</th>\n",
       "    </tr>\n",
       "  </thead>\n",
       "  <tbody>\n",
       "    <tr>\n",
       "      <th>0</th>\n",
       "      <td>0</td>\n",
       "      <td>61547</td>\n",
       "      <td>0.0</td>\n",
       "      <td>61547.0</td>\n",
       "    </tr>\n",
       "    <tr>\n",
       "      <th>1</th>\n",
       "      <td>1</td>\n",
       "      <td>3670</td>\n",
       "      <td>1.0</td>\n",
       "      <td>3682.0</td>\n",
       "    </tr>\n",
       "    <tr>\n",
       "      <th>2</th>\n",
       "      <td>2</td>\n",
       "      <td>11</td>\n",
       "      <td>NaN</td>\n",
       "      <td>NaN</td>\n",
       "    </tr>\n",
       "    <tr>\n",
       "      <th>3</th>\n",
       "      <td>3</td>\n",
       "      <td>1</td>\n",
       "      <td>NaN</td>\n",
       "      <td>NaN</td>\n",
       "    </tr>\n",
       "  </tbody>\n",
       "</table>\n",
       "</div>"
      ],
      "text/plain": [
       "   before  count_before  after  count_after\n",
       "0       0         61547    0.0      61547.0\n",
       "1       1          3670    1.0       3682.0\n",
       "2       2            11    NaN          NaN\n",
       "3       3             1    NaN          NaN"
      ]
     },
     "metadata": {},
     "output_type": "display_data"
    },
    {
     "name": "stdout",
     "output_type": "stream",
     "text": [
      "\n",
      "------------------- Объединяем редкие страны  в обучающей выборки-------------------\n",
      "\n",
      "Было уникальных стран: 155\n",
      "Стало уникальных стран: 40\n",
      "Страна считается редкой, если посетило меньше 50 туристов, за исследуемый период\n",
      "\n",
      "------------------------ Убираем пробелы  в тестовой выборки------------------------\n",
      "\n",
      "Удаленны пробелы в колонке meal\n",
      "Удаленны пробелы в колонке reserved_room_type\n",
      "Удаленны пробелы в колонке country\n",
      "Удаленны пробелы в колонке customer_type\n",
      "Удаленны пробелы в колонке distribution_channel\n",
      "\n",
      "------------------------- Поменял месяца  в тестовой выборки------------------------\n",
      "\n"
     ]
    },
    {
     "data": {
      "text/html": [
       "<div>\n",
       "<style scoped>\n",
       "    .dataframe tbody tr th:only-of-type {\n",
       "        vertical-align: middle;\n",
       "    }\n",
       "\n",
       "    .dataframe tbody tr th {\n",
       "        vertical-align: top;\n",
       "    }\n",
       "\n",
       "    .dataframe thead th {\n",
       "        text-align: right;\n",
       "    }\n",
       "</style>\n",
       "<table border=\"1\" class=\"dataframe\">\n",
       "  <thead>\n",
       "    <tr style=\"text-align: right;\">\n",
       "      <th></th>\n",
       "      <th>before</th>\n",
       "      <th>count_before</th>\n",
       "      <th>after</th>\n",
       "      <th>count_after</th>\n",
       "    </tr>\n",
       "  </thead>\n",
       "  <tbody>\n",
       "    <tr>\n",
       "      <th>0</th>\n",
       "      <td>May</td>\n",
       "      <td>5262</td>\n",
       "      <td>5</td>\n",
       "      <td>5262</td>\n",
       "    </tr>\n",
       "    <tr>\n",
       "      <th>1</th>\n",
       "      <td>April</td>\n",
       "      <td>4878</td>\n",
       "      <td>4</td>\n",
       "      <td>4878</td>\n",
       "    </tr>\n",
       "    <tr>\n",
       "      <th>2</th>\n",
       "      <td>June</td>\n",
       "      <td>4580</td>\n",
       "      <td>6</td>\n",
       "      <td>4580</td>\n",
       "    </tr>\n",
       "    <tr>\n",
       "      <th>3</th>\n",
       "      <td>March</td>\n",
       "      <td>4277</td>\n",
       "      <td>3</td>\n",
       "      <td>4277</td>\n",
       "    </tr>\n",
       "    <tr>\n",
       "      <th>4</th>\n",
       "      <td>July</td>\n",
       "      <td>3626</td>\n",
       "      <td>7</td>\n",
       "      <td>3626</td>\n",
       "    </tr>\n",
       "  </tbody>\n",
       "</table>\n",
       "</div>"
      ],
      "text/plain": [
       "  before  count_before  after  count_after\n",
       "0    May          5262      5         5262\n",
       "1  April          4878      4         4878\n",
       "2   June          4580      6         4580\n",
       "3  March          4277      3         4277\n",
       "4   July          3626      7         3626"
      ]
     },
     "metadata": {},
     "output_type": "display_data"
    },
    {
     "name": "stdout",
     "output_type": "stream",
     "text": [
      "\n",
      "---------------- Получили столбец с днями недели  в тестовой выборки----------------\n",
      "\n"
     ]
    },
    {
     "data": {
      "image/png": "[encoded data removed]",
      "text/plain": [
       "<Figure size 432x288 with 1 Axes>"
      ]
     },
     "metadata": {
      "needs_background": "light"
     },
     "output_type": "display_data"
    },
    {
     "name": "stdout",
     "output_type": "stream",
     "text": [
      "Удалены следующие стобцы: ['id', 'year', 'day', 'arrival_date_week_number', 'total_nights']\n",
      "\n",
      "---------------------------- Заменено  в тестовой выборки---------------------------\n",
      "\n",
      "adults\n"
     ]
    },
    {
     "data": {
      "text/html": [
       "<div>\n",
       "<style scoped>\n",
       "    .dataframe tbody tr th:only-of-type {\n",
       "        vertical-align: middle;\n",
       "    }\n",
       "\n",
       "    .dataframe tbody tr th {\n",
       "        vertical-align: top;\n",
       "    }\n",
       "\n",
       "    .dataframe thead th {\n",
       "        text-align: right;\n",
       "    }\n",
       "</style>\n",
       "<table border=\"1\" class=\"dataframe\">\n",
       "  <thead>\n",
       "    <tr style=\"text-align: right;\">\n",
       "      <th></th>\n",
       "      <th>before</th>\n",
       "      <th>count_before</th>\n",
       "      <th>after</th>\n",
       "      <th>count_after</th>\n",
       "    </tr>\n",
       "  </thead>\n",
       "  <tbody>\n",
       "    <tr>\n",
       "      <th>0</th>\n",
       "      <td>2.0</td>\n",
       "      <td>24237</td>\n",
       "      <td>2.0</td>\n",
       "      <td>24237.0</td>\n",
       "    </tr>\n",
       "    <tr>\n",
       "      <th>1</th>\n",
       "      <td>1.0</td>\n",
       "      <td>6280</td>\n",
       "      <td>1.0</td>\n",
       "      <td>6349.0</td>\n",
       "    </tr>\n",
       "    <tr>\n",
       "      <th>2</th>\n",
       "      <td>3.0</td>\n",
       "      <td>1817</td>\n",
       "      <td>3.0</td>\n",
       "      <td>1817.0</td>\n",
       "    </tr>\n",
       "    <tr>\n",
       "      <th>3</th>\n",
       "      <td>0.0</td>\n",
       "      <td>69</td>\n",
       "      <td>4.0</td>\n",
       "      <td>9.0</td>\n",
       "    </tr>\n",
       "    <tr>\n",
       "      <th>4</th>\n",
       "      <td>4.0</td>\n",
       "      <td>9</td>\n",
       "      <td>NaN</td>\n",
       "      <td>NaN</td>\n",
       "    </tr>\n",
       "  </tbody>\n",
       "</table>\n",
       "</div>"
      ],
      "text/plain": [
       "   before  count_before  after  count_after\n",
       "0     2.0         24237    2.0      24237.0\n",
       "1     1.0          6280    1.0       6349.0\n",
       "2     3.0          1817    3.0       1817.0\n",
       "3     0.0            69    4.0          9.0\n",
       "4     4.0             9    NaN          NaN"
      ]
     },
     "metadata": {},
     "output_type": "display_data"
    },
    {
     "name": "stdout",
     "output_type": "stream",
     "text": [
      "adults\n"
     ]
    },
    {
     "data": {
      "text/html": [
       "<div>\n",
       "<style scoped>\n",
       "    .dataframe tbody tr th:only-of-type {\n",
       "        vertical-align: middle;\n",
       "    }\n",
       "\n",
       "    .dataframe tbody tr th {\n",
       "        vertical-align: top;\n",
       "    }\n",
       "\n",
       "    .dataframe thead th {\n",
       "        text-align: right;\n",
       "    }\n",
       "</style>\n",
       "<table border=\"1\" class=\"dataframe\">\n",
       "  <thead>\n",
       "    <tr style=\"text-align: right;\">\n",
       "      <th></th>\n",
       "      <th>before</th>\n",
       "      <th>count_before</th>\n",
       "      <th>after</th>\n",
       "      <th>count_after</th>\n",
       "    </tr>\n",
       "  </thead>\n",
       "  <tbody>\n",
       "    <tr>\n",
       "      <th>0</th>\n",
       "      <td>2.0</td>\n",
       "      <td>24237</td>\n",
       "      <td>2.0</td>\n",
       "      <td>24237.0</td>\n",
       "    </tr>\n",
       "    <tr>\n",
       "      <th>1</th>\n",
       "      <td>1.0</td>\n",
       "      <td>6349</td>\n",
       "      <td>1.0</td>\n",
       "      <td>6349.0</td>\n",
       "    </tr>\n",
       "    <tr>\n",
       "      <th>2</th>\n",
       "      <td>3.0</td>\n",
       "      <td>1817</td>\n",
       "      <td>3.0</td>\n",
       "      <td>1826.0</td>\n",
       "    </tr>\n",
       "    <tr>\n",
       "      <th>3</th>\n",
       "      <td>4.0</td>\n",
       "      <td>9</td>\n",
       "      <td>NaN</td>\n",
       "      <td>NaN</td>\n",
       "    </tr>\n",
       "  </tbody>\n",
       "</table>\n",
       "</div>"
      ],
      "text/plain": [
       "   before  count_before  after  count_after\n",
       "0     2.0         24237    2.0      24237.0\n",
       "1     1.0          6349    1.0       6349.0\n",
       "2     3.0          1817    3.0       1826.0\n",
       "3     4.0             9    NaN          NaN"
      ]
     },
     "metadata": {},
     "output_type": "display_data"
    },
    {
     "name": "stdout",
     "output_type": "stream",
     "text": [
      "children\n"
     ]
    },
    {
     "data": {
      "text/html": [
       "<div>\n",
       "<style scoped>\n",
       "    .dataframe tbody tr th:only-of-type {\n",
       "        vertical-align: middle;\n",
       "    }\n",
       "\n",
       "    .dataframe tbody tr th {\n",
       "        vertical-align: top;\n",
       "    }\n",
       "\n",
       "    .dataframe thead th {\n",
       "        text-align: right;\n",
       "    }\n",
       "</style>\n",
       "<table border=\"1\" class=\"dataframe\">\n",
       "  <thead>\n",
       "    <tr style=\"text-align: right;\">\n",
       "      <th></th>\n",
       "      <th>before</th>\n",
       "      <th>count_before</th>\n",
       "      <th>after</th>\n",
       "      <th>count_after</th>\n",
       "    </tr>\n",
       "  </thead>\n",
       "  <tbody>\n",
       "    <tr>\n",
       "      <th>0</th>\n",
       "      <td>0.0</td>\n",
       "      <td>30360</td>\n",
       "      <td>0.0</td>\n",
       "      <td>30360.0</td>\n",
       "    </tr>\n",
       "    <tr>\n",
       "      <th>1</th>\n",
       "      <td>1.0</td>\n",
       "      <td>1394</td>\n",
       "      <td>1.0</td>\n",
       "      <td>1394.0</td>\n",
       "    </tr>\n",
       "    <tr>\n",
       "      <th>2</th>\n",
       "      <td>2.0</td>\n",
       "      <td>653</td>\n",
       "      <td>2.0</td>\n",
       "      <td>658.0</td>\n",
       "    </tr>\n",
       "    <tr>\n",
       "      <th>3</th>\n",
       "      <td>3.0</td>\n",
       "      <td>5</td>\n",
       "      <td>NaN</td>\n",
       "      <td>NaN</td>\n",
       "    </tr>\n",
       "  </tbody>\n",
       "</table>\n",
       "</div>"
      ],
      "text/plain": [
       "   before  count_before  after  count_after\n",
       "0     0.0         30360    0.0      30360.0\n",
       "1     1.0          1394    1.0       1394.0\n",
       "2     2.0           653    2.0        658.0\n",
       "3     3.0             5    NaN          NaN"
      ]
     },
     "metadata": {},
     "output_type": "display_data"
    },
    {
     "name": "stdout",
     "output_type": "stream",
     "text": [
      "babies\n"
     ]
    },
    {
     "data": {
      "text/html": [
       "<div>\n",
       "<style scoped>\n",
       "    .dataframe tbody tr th:only-of-type {\n",
       "        vertical-align: middle;\n",
       "    }\n",
       "\n",
       "    .dataframe tbody tr th {\n",
       "        vertical-align: top;\n",
       "    }\n",
       "\n",
       "    .dataframe thead th {\n",
       "        text-align: right;\n",
       "    }\n",
       "</style>\n",
       "<table border=\"1\" class=\"dataframe\">\n",
       "  <thead>\n",
       "    <tr style=\"text-align: right;\">\n",
       "      <th></th>\n",
       "      <th>before</th>\n",
       "      <th>count_before</th>\n",
       "      <th>after</th>\n",
       "      <th>count_after</th>\n",
       "    </tr>\n",
       "  </thead>\n",
       "  <tbody>\n",
       "    <tr>\n",
       "      <th>0</th>\n",
       "      <td>0.0</td>\n",
       "      <td>32237</td>\n",
       "      <td>0.0</td>\n",
       "      <td>32237.0</td>\n",
       "    </tr>\n",
       "    <tr>\n",
       "      <th>1</th>\n",
       "      <td>1.0</td>\n",
       "      <td>171</td>\n",
       "      <td>1.0</td>\n",
       "      <td>175.0</td>\n",
       "    </tr>\n",
       "    <tr>\n",
       "      <th>2</th>\n",
       "      <td>2.0</td>\n",
       "      <td>4</td>\n",
       "      <td>NaN</td>\n",
       "      <td>NaN</td>\n",
       "    </tr>\n",
       "  </tbody>\n",
       "</table>\n",
       "</div>"
      ],
      "text/plain": [
       "   before  count_before  after  count_after\n",
       "0     0.0         32237    0.0      32237.0\n",
       "1     1.0           171    1.0        175.0\n",
       "2     2.0             4    NaN          NaN"
      ]
     },
     "metadata": {},
     "output_type": "display_data"
    },
    {
     "name": "stdout",
     "output_type": "stream",
     "text": [
      "required_car_parking_spaces\n"
     ]
    },
    {
     "data": {
      "text/html": [
       "<div>\n",
       "<style scoped>\n",
       "    .dataframe tbody tr th:only-of-type {\n",
       "        vertical-align: middle;\n",
       "    }\n",
       "\n",
       "    .dataframe tbody tr th {\n",
       "        vertical-align: top;\n",
       "    }\n",
       "\n",
       "    .dataframe thead th {\n",
       "        text-align: right;\n",
       "    }\n",
       "</style>\n",
       "<table border=\"1\" class=\"dataframe\">\n",
       "  <thead>\n",
       "    <tr style=\"text-align: right;\">\n",
       "      <th></th>\n",
       "      <th>before</th>\n",
       "      <th>count_before</th>\n",
       "      <th>after</th>\n",
       "      <th>count_after</th>\n",
       "    </tr>\n",
       "  </thead>\n",
       "  <tbody>\n",
       "    <tr>\n",
       "      <th>0</th>\n",
       "      <td>0</td>\n",
       "      <td>30935</td>\n",
       "      <td>0.0</td>\n",
       "      <td>30935.0</td>\n",
       "    </tr>\n",
       "    <tr>\n",
       "      <th>1</th>\n",
       "      <td>1</td>\n",
       "      <td>1468</td>\n",
       "      <td>1.0</td>\n",
       "      <td>1477.0</td>\n",
       "    </tr>\n",
       "    <tr>\n",
       "      <th>2</th>\n",
       "      <td>2</td>\n",
       "      <td>6</td>\n",
       "      <td>NaN</td>\n",
       "      <td>NaN</td>\n",
       "    </tr>\n",
       "    <tr>\n",
       "      <th>3</th>\n",
       "      <td>8</td>\n",
       "      <td>2</td>\n",
       "      <td>NaN</td>\n",
       "      <td>NaN</td>\n",
       "    </tr>\n",
       "    <tr>\n",
       "      <th>4</th>\n",
       "      <td>3</td>\n",
       "      <td>1</td>\n",
       "      <td>NaN</td>\n",
       "      <td>NaN</td>\n",
       "    </tr>\n",
       "  </tbody>\n",
       "</table>\n",
       "</div>"
      ],
      "text/plain": [
       "   before  count_before  after  count_after\n",
       "0       0         30935    0.0      30935.0\n",
       "1       1          1468    1.0       1477.0\n",
       "2       2             6    NaN          NaN\n",
       "3       8             2    NaN          NaN\n",
       "4       3             1    NaN          NaN"
      ]
     },
     "metadata": {},
     "output_type": "display_data"
    },
    {
     "name": "stdout",
     "output_type": "stream",
     "text": [
      "\n",
      "-------------------- Объединяем редкие страны  в тестовой выборки-------------------\n",
      "\n",
      "Было уникальных стран: 143\n",
      "Стало уникальных стран: 33\n",
      "Страна считается редкой, если посетило меньше 50 туристов, за исследуемый период\n"
     ]
    }
   ],
   "source": [
    "for i in (train, test):\n",
    "    preprocessing = Preprocessing(i)\n",
    "    preprocessing.group_smallest_values(True)\n",
    "    preprocessing.group_countries(50)"
   ]
  },
  {
   "cell_type": "markdown",
   "metadata": {},
   "source": [
    "Из интересного в данных: \n",
    "- посетители сети из 155 разных стран\n",
    "- по глобальной системе бронирования, всего 99(менее 0.1% пользователей) забронировали отель.\n",
    "- оказывается существуют клиенты, которые отменяли заказ.... 25раз!!! я бы их после 5ого бы в черный список добавил\n",
    "- странно, что 93.8% броннированных номеров - категория А.(как понимаю \"элитная\")\n",
    "- существует не мало людей кто подтверждал заказ более 200дней... странная практика. при этом интересно, что при предсказывании отмены заказа наверно не правильно использовать этот параметр...\n",
    "- Всего 0.4% посещают сеть отелей в группе. 4% юр.лица , а вот чем отличается `Transient` от `Transient-party` мне не понять, в сумме составляют 95% постояльцев\n",
    "- На машинах приезжает ~6% постояльцев"
   ]
  },
  {
   "cell_type": "markdown",
   "metadata": {},
   "source": [
    "### Шаг 3. Формулировка ML-задачи на основе бизнес-задачи"
   ]
  },
  {
   "cell_type": "code",
   "execution_count": 67,
   "metadata": {},
   "outputs": [],
   "source": [
    "class Business_metrics():\n",
    "    '''Для вывода пользоваться методом start_profit_Hotel()\n",
    "    '''\n",
    "    def __init__(self):\n",
    "        self.price_rooms = {\n",
    "            'A' : [1000, 400], # Индекс / цена за ночь / разовое обслуживание\n",
    "            'B' : [800, 350],\n",
    "            'C' : [600, 350],\n",
    "            'D' : [550, 150],\n",
    "            'E' : [500, 150],\n",
    "            'F' : [450, 150],\n",
    "            'G' : [350, 150]\n",
    "        }\n",
    "        self.summer_koef = 1.4\n",
    "        self.autumn_spring_koef = 1.2\n",
    "        self.name = '' # костыль\n",
    "        \n",
    "    \n",
    "    def calculate_profit_apply(self, row, predict, calculate_column='is_canceled'):\n",
    "        '''Если predict = False, считает фактическую выручку иначе считает согласно предсказанию\n",
    "        \n",
    "        Считает предсказанную выручку по следующей формуле:\n",
    "        если is_canceled == 0:(в любом случае отказа не было)\n",
    "        стоимость ночи * кол-во дней * коэфициент - \n",
    "        (кол-во дней // 2 + кол-во дней % 2 + 1) * стоимость облуживания\n",
    "        если is_canceled == 1 и predict == 1:(предсказала отказ, отказ произошел)\n",
    "        стоимость ночи * 0.8 * коэфициент  ### Стоимость обслуживания не учитываем\n",
    "        если is_canceled == 1 и predict == 0:(предсказала нет отказа, а отказ произошел)\n",
    "        -(минус) стоимость обслуживания - стоимость ночи\n",
    "\n",
    "        Args:\n",
    "            predict_column (_type_): _description_\n",
    "        '''\n",
    "        if not predict:\n",
    "            predict = 0\n",
    "        else:\n",
    "            predict = row[predict]\n",
    "            \n",
    "        count_days = row['stays_in_week_nights'] + row['stays_in_weekend_nights'] # кол-во дней\n",
    "        koef = self.check_koef(row) # коэфициент\n",
    "        night_price = self.price_rooms[row['reserved_room_type']][0] # Цена ночи\n",
    "        service_price = self.price_rooms[row['reserved_room_type']][1] # Цена обслуживания\n",
    "        service_count = count_days // 2 + count_days % 2 + 1 # обслуживания раз\n",
    "        if row[calculate_column] == 1 and predict == 1: # отказ / отказ\n",
    "            return night_price * koef * 0.8\n",
    "        elif row[calculate_column] == 0: # нет отказа \n",
    "            profit = ((night_price*count_days*koef) - (service_price*service_count)) \n",
    "            return profit\n",
    "        else: # отказ / нет отказа\n",
    "            return night_price*(-1) - service_price \n",
    "\n",
    "        \n",
    "               \n",
    "    def check_koef(self, row):\n",
    "        '''проверяет по полученной информации какой коэфициент применять'''\n",
    "        if row['month'] < 2 or row['month'] > 11:\n",
    "            return 1\n",
    "        elif row['month'] > 5 and row['month'] < 9:\n",
    "            return self.summer_koef\n",
    "        else:\n",
    "            return self.autumn_spring_koef\n",
    "    \n",
    "    def start_profit_hotel(self, hotel: Hotel, del_after=True):\n",
    "        self.name = hotel.name\n",
    "        self.df = hotel.df\n",
    "        self.dont_ask_me_what_is_this(del_after)\n",
    "        \n",
    "    @decoratore_print_separator('Фактические значения')    \n",
    "    def dont_ask_me_what_is_this(self, del_after):\n",
    "        self.calculate_profit('is_canceled', del_after)    \n",
    "        \n",
    "    def calculate_profit(self, calculate_column, del_after, predict=False):\n",
    "        '''Функция для подсчета основных бизнес метрик, после создания\n",
    "        '''\n",
    "        self.df['profit'] = self.df.apply(self.calculate_profit_apply, axis=1, predict=predict, calculate_column=calculate_column)\n",
    "        # display(self.df['profit'].describe()) Можно расскоментировать\n",
    "        sum_profit = self.df['profit'].sum() / 1_000_000\n",
    "        profit_one_person = self.df['profit'].sum() / len(self.df['profit']) * 1.5\n",
    "        sum_year_prof = sum_profit*1.5\n",
    "        print(f'Общая выручка за рассмартиваемый период(8мес): {sum_profit:.2f} млн. руб')\n",
    "        print(f'Расчетная выручка за год: {sum_year_prof:.2f} млн. руб')\n",
    "        print(f'Средняя выручка на одного постояльца в год: {profit_one_person:.2f} руб')\n",
    "        if not predict:\n",
    "            per_errors = len(self.df.query('is_canceled == 1')) / len(self.df['profit'])\n",
    "            print(f'Процент отказов: {per_errors:.2%}')\n",
    "        else:\n",
    "            self.df['mean_real_prof'] = self.df.apply(self.calculate_profit_apply, axis=1, predict=False, calculate_column='is_canceled')\n",
    "            real_mean = self.df['mean_real_prof'].sum()\n",
    "            prof =  sum_year_prof - ((real_mean*1.5)/ 1_000_000) \n",
    "            print(f'Предсказанное увеличение выручки в год: {prof:.2f} млн.руб')\n",
    "            per_errors = len(self.df[self.df[predict] == 1]) / len(self.df['profit'])\n",
    "            print(f'Процент предсказанных отказов: {per_errors:.2%}')\n",
    "            self.df.drop(columns=['mean_real_prof'], inplace=True)  \n",
    "        if del_after:\n",
    "            self.df.drop(columns=['profit'], inplace=True)\n",
    "        \n",
    "        "
   ]
  },
  {
   "cell_type": "code",
   "execution_count": 68,
   "metadata": {},
   "outputs": [
    {
     "name": "stdout",
     "output_type": "stream",
     "text": [
      "\n",
      "---------------------- Фактические значения  в тестовой выборки---------------------\n",
      "\n",
      "Общая выручка за рассмартиваемый период(8мес): 32.61 млн. руб\n",
      "Расчетная выручка за год: 48.91 млн. руб\n",
      "Средняя выручка на одного постояльца в год: 1509.15 руб\n",
      "Процент отказов: 38.85%\n"
     ]
    }
   ],
   "source": [
    "Business_metrics().start_profit_hotel(test)\n"
   ]
  },
  {
   "cell_type": "markdown",
   "metadata": {},
   "source": [
    "### Шаг 4. Разработка модели ML"
   ]
  },
  {
   "cell_type": "code",
   "execution_count": 11,
   "metadata": {},
   "outputs": [],
   "source": [
    "class Preprocess_model():\n",
    "    def __init__(self, test: Hotel, train: Hotel):\n",
    "        self.test = test.df\n",
    "        self.train = train.df\n",
    "        self.main = self.test.copy()\n",
    "        self.reverse_train = self.train.copy()\n",
    "        self.reverse_test = self.test.copy()\n",
    "        self.name = ''  # костыль\n",
    "\n",
    "    def start_preprocess(self, scaler=False, ohe=False, ord_enc=False, show_value=False, del_obj=False):\n",
    "        '''Метод возвращает выборки в зависимости от выбранных параметров\n",
    "\n",
    "        Args:\n",
    "            scaler (bool, optional): Применять ли масштабирование. Defaults to False.\n",
    "            ohe (bool, optional): Кодирование Ohe. Defaults to False.\n",
    "            ord_enc (bool, optional): Порядковое кодирование(не сочетается с ohe). Defaults to False.\n",
    "            show_value (bool, optional): Выводить ли служ.информацию или нет. Defaults to False.\n",
    "            del_obj (bool, optional): Удалить категориальные переменные(если не хочется кодировать). Defaults to False.\n",
    "        '''\n",
    "        self.columns_for_scale = ['lead_time', 'stays_in_weekend_nights',\n",
    "                                  'stays_in_week_nights', 'previous_cancellations', 'previous_bookings_not_canceled',\n",
    "                                  'booking_changes', 'days_in_waiting_list', 'total_of_special_requests']\n",
    "        self.columns_encording = ['reserved_room_type', 'customer_type', 'meal', 'country', 'distribution_channel']\n",
    "        self.test = self.reverse_test.copy()\n",
    "        self.train = self.reverse_train.copy()\n",
    "        self.show_value = show_value\n",
    "        self.scaler = scaler\n",
    "        self.ohe = ohe\n",
    "        self.ord_enc=ord_enc\n",
    "        self.del_obj = del_obj\n",
    "        self.features_train = self.train.drop(columns=['is_canceled'])\n",
    "        self.features_test = self.test.drop(columns=['is_canceled'])\n",
    "        self.target_train = self.train['is_canceled']\n",
    "        self.target_test = self.test['is_canceled']\n",
    "        if self.ohe:\n",
    "            self.ohe_fit_features()\n",
    "        if self.ord_enc:\n",
    "            self.ordinal_encording()\n",
    "        if self.scaler:\n",
    "            self.scaler_fit()\n",
    "        if self.del_obj:\n",
    "            self.del_obj_func()\n",
    "                \n",
    "    @decoratore_print_separator('Удалил категориальные столбцы')\n",
    "    def del_obj_func(self):\n",
    "        self.features_train.drop(columns=self.columns_encording, inplace=True)\n",
    "        self.features_test.drop(columns=self.columns_encording, inplace=True)\n",
    "\n",
    "    @decoratore_print_separator('Перекодировано ohe')\n",
    "    def ohe_fit_features(self):\n",
    "        '''Обучается модель self.encoder_ohe (OneHotEncoder)\n",
    "        '''\n",
    "        if self.show_value:\n",
    "            print(f'Размер таблицы до кодирования {self.features_train.shape}')\n",
    "            count = 0\n",
    "            for col in self.columns_encording:\n",
    "                uniq_value = len(self.features_train[col].unique())\n",
    "                print(\n",
    "                    f'Количество уникальных значений в столбце {col} - {uniq_value}')\n",
    "                count += uniq_value\n",
    "            print(f'В сумме: {count}')\n",
    "        self.encoder_ohe = OneHotEncoder(drop='first')\n",
    "        self.encoder_ohe.fit(self.train[self.columns_encording])\n",
    "        self.ohe_transform()\n",
    "        if self.show_value:\n",
    "            print(f'Размер таблицы после кодирования {self.features_train.shape}')\n",
    "\n",
    "\n",
    "    def ohe_transform(self):\n",
    "        '''Функция перекодирования методом ohe, сначало трансформирует, затем создается df\n",
    "        затем удаляются стобцы из оригинального df\n",
    "        '''\n",
    "\n",
    "        encording_ohe_features = self.encoder_ohe.transform(self.features_train[self.columns_encording]).toarray()\n",
    "        self.features_train.drop(columns=self.columns_encording, inplace=True)\n",
    "        self.features_train[self.encoder_ohe.get_feature_names()] = pd.DataFrame(\n",
    "            encording_ohe_features, columns=self.encoder_ohe.get_feature_names())\n",
    "        \n",
    "        # По сути повторение... падло в цикле не хочет менять значение...\n",
    "        encording_ohe_features = self.encoder_ohe.transform(self.features_test[self.columns_encording]).toarray()\n",
    "        self.features_test.drop(columns=self.columns_encording, inplace=True)\n",
    "        self.features_test[self.encoder_ohe.get_feature_names()] = pd.DataFrame(\n",
    "            encording_ohe_features, columns=self.encoder_ohe.get_feature_names())\n",
    "\n",
    "        \n",
    "    @decoratore_print_separator('Данные смасштабированы')\n",
    "    def scaler_fit(self):\n",
    "        scaler = StandardScaler()\n",
    "        scaler.fit(self.features_train[self.columns_for_scale])\n",
    "        scaled_train = scaler.transform(self.features_train[self.columns_for_scale])\n",
    "        scaled_test = scaler.transform(self.features_test[self.columns_for_scale])\n",
    "        self.features_train[self.columns_for_scale] = pd.DataFrame(\n",
    "            scaled_train, columns=self.features_train[self.columns_for_scale].columns)\n",
    "        self.features_test[self.columns_for_scale] = pd.DataFrame(\n",
    "            scaled_test, columns=self.features_train[self.columns_for_scale].columns)\n",
    "        if self.show_value:\n",
    "            display(self.features_train.head(2))\n",
    "\n",
    "\n",
    "    @decoratore_print_separator('Перекодировано порядковым способом')\n",
    "    def ordinal_encording(self):\n",
    "        if self.show_value:\n",
    "            print(f'Размер таблицы до кодирования {self.features_train.shape}')\n",
    "        ord_enc = OrdinalEncoder()\n",
    "        ord_enc.fit(self.features_train[self.columns_encording])\n",
    "        ord_data_train = ord_enc.transform(\n",
    "            self.features_train[self.columns_encording])\n",
    "        ord_data_test = ord_enc.transform(\n",
    "            self.features_test[self.columns_encording])\n",
    "        ord_data_train = pd.DataFrame(\n",
    "            ord_data_train, columns=self.features_train[self.columns_encording].columns, index=self.features_train.index)\n",
    "        ord_data_test = pd.DataFrame(\n",
    "            ord_data_test, columns=self.features_test[self.columns_encording].columns, index=self.features_test.index)\n",
    "        for i in [self.features_train, self.features_test]:\n",
    "            i.drop(columns=self.columns_encording, inplace=True)\n",
    "        self.features_train = pd.concat(\n",
    "            [self.features_train, ord_data_train], axis=1)\n",
    "        self.features_test = pd.concat(\n",
    "            [self.features_test, ord_data_test], axis=1)\n",
    "        if self.show_value:\n",
    "            print(f'Размер таблицы после кодирования {self.features_train.shape}')\n",
    "            display(self.features_train.head(2))\n"
   ]
  },
  {
   "cell_type": "code",
   "execution_count": 12,
   "metadata": {},
   "outputs": [],
   "source": [
    "class Model_grid(Preprocess_model):\n",
    "    '''Функции: \n",
    "    linear_regression() : создает модель Линейной регресии, выводит основные метрики\n",
    "\n",
    "\n",
    "    Args:\n",
    "        scaler(bool) : масштабировать(True) или не масштабировать признаки\n",
    "        ohe(bool) : применять технику ohe или порядковое кодирование\n",
    "        test(Hotel) : тестовый экземпляр класса Hotel\n",
    "        train(Hotel) : тестовый экземпляр класса Hotel\n",
    "    '''\n",
    "\n",
    "    def __init__(self, test: Hotel, train: Hotel):\n",
    "        super().__init__(test, train)\n",
    "\n",
    "        \n",
    "    @decoratore_print_separator('Логистическая регрессия')\n",
    "    def linear_regression(self, class_weight=None):\n",
    "        parametrs = {\n",
    "            'penalty':['l1','l2']\n",
    "        }\n",
    "        model_logical = LogisticRegression(solver='liblinear', class_weight=class_weight)\n",
    "        self.learn_model(model_logical, parametrs, 'logistic')\n",
    "              \n",
    "    \n",
    "    @decoratore_print_separator('Дерево Решений')\n",
    "    def tree_classifier(self, class_weight=None):\n",
    "        parametrs = {\n",
    "            'max_depth' : range(2,12,2),\n",
    "            'min_samples_leaf' : range(1,10,2)\n",
    "        }\n",
    "        model_tree = DecisionTreeClassifier(random_state=333, class_weight=class_weight)\n",
    "        self.learn_model(model_tree, parametrs, 'tree')\n",
    "        \n",
    "        \n",
    "    @decoratore_print_separator('Случайный лес')\n",
    "    def forest_classifier(self, class_weight=None):\n",
    "        parametrs = {'n_estimators': range (30, 121, 10),\n",
    "              'max_depth': range (4,13, 1),\n",
    "              'min_samples_leaf': range (1,3)}\n",
    "        model_forest = RandomForestClassifier(random_state=333, class_weight=class_weight)\n",
    "        self.learn_model(model_forest, parametrs, 'forest')\n",
    "        \n",
    "        \n",
    "    def learn_model(self, model, parametrs, text):\n",
    "        '''Обучение модели через сетку\n",
    "\n",
    "        Args:\n",
    "            model (model): RandomForestClassifier/DecisionTreeClassifier/LogicalRegression\n",
    "            parametrs (paramerts): словарь с параметрами для обучения\n",
    "            text (str): Текст, как будет записан в основную таблицу\n",
    "        '''\n",
    "        grid = GridSearchCV(model, parametrs, cv=3, scoring='f1')\n",
    "        grid.fit(self.features_train, self.target_train)\n",
    "        self.calc_and_print_score(grid, text)\n",
    "    \n",
    "        \n",
    "    def calc_and_print_score(self, grid: GridSearchCV, text: str):\n",
    "        '''Функция для вывода всей нужной информации(метрик/графиков)\n",
    "\n",
    "        Args:\n",
    "            grid (GridSearchCV): Обученная сетка\n",
    "            text (str): название, которое будет записано в таблицу test_train\n",
    "        '''\n",
    "        predict = grid.predict(self.features_test)\n",
    "        probabilities = grid.predict_proba(self.features_test)[:,]\n",
    "        probabilities = list(map(lambda x: x[1], probabilities)) # positive\n",
    "        self.print_info(predict, probabilities, grid)    \n",
    "        self.create_new_column(predict, probabilities, text)    \n",
    "        self.drew_graphics(probabilities, predict, grid)\n",
    "        \n",
    "        \n",
    "    def print_info(self, predict, probabilities, grid: GridSearchCV):\n",
    "        print(f'Лучшее f1-мера полученная на кросс-валидации: {grid.best_score_:.2f}')\n",
    "        print(f'Лучшие параметры сетки: {grid.best_params_}')\n",
    "        # Кривой какой то способ достать предсказания... Но другого не придумал, если посоветует ревьювер, буду рад\n",
    "        scores = {\n",
    "            'f1-мера' : f1_score(self.target_test, predict),\n",
    "            'accuracy' : accuracy_score(self.target_test, predict),\n",
    "            'recall' : precision_score(self.target_test, predict),\n",
    "            'presion' : recall_score(self.target_test, predict),\n",
    "            'aur_roc_score' : roc_auc_score(self.target_test, probabilities),\n",
    "        }\n",
    "        print('\\nМетрики полученные на тестовой выборке:')      \n",
    "        for i in scores:\n",
    "            print(f'Параметр {i} : {scores[i]:.2f}')\n",
    "        \n",
    "    def create_new_column(self, predict, probabilities, text):\n",
    "        predict_name = f'predict_{text}'\n",
    "        proba_name = f'proba_{text}'\n",
    "        if f'proba_{text}' in self.main.columns:\n",
    "            self.main.drop(columns=[predict_name, proba_name], inplace=True)\n",
    "        pred = pd.Series(predict, index=self.target_test.index, name=predict_name)\n",
    "        proba = pd.Series(probabilities, index=self.target_test.index, name=proba_name)    \n",
    "        self.main = pd.concat([self.main, pred, proba], axis=1)\n",
    "    \n",
    "    \n",
    "    def drew_graphics(self, probabilities, predict, grid: GridSearchCV):\n",
    "        fpr, tpr, thresolds = roc_curve(self.target_test, probabilities)\n",
    "        conf_matrix = confusion_matrix(self.target_test, predict, labels=grid.classes_)\n",
    "        disp = ConfusionMatrixDisplay(confusion_matrix=conf_matrix, display_labels=grid.classes_)\n",
    "        disp.plot()\n",
    "        plt.show()\n",
    "        plt.plot(fpr,tpr, label=\"ROC Curve\",color=\"blue\")\n",
    "        plt.xlabel(\"False Positve Rate\")\n",
    "        plt.ylabel(\"True Positive Rate\")\n",
    "        plt.show()\n",
    "        "
   ]
  },
  {
   "cell_type": "markdown",
   "metadata": {},
   "source": [
    "Ц.признак умеренно сбалансирован, правильнее всего использовать f-меру, для выбора подходящей модели. "
   ]
  },
  {
   "cell_type": "code",
   "execution_count": 13,
   "metadata": {},
   "outputs": [],
   "source": [
    "model = Model_grid(test, train)"
   ]
  },
  {
   "cell_type": "code",
   "execution_count": 14,
   "metadata": {},
   "outputs": [
    {
     "name": "stdout",
     "output_type": "stream",
     "text": [
      "\n",
      "-------------------------------- Перекодировано ohe --------------------------------\n",
      "\n",
      "\n",
      "------------------------------ Данные смасштабированы ------------------------------\n",
      "\n",
      "\n",
      "------------------------------ Логистическая регрессия -----------------------------\n",
      "\n",
      "Лучшее f1-мера полученная на кросс-валидации: 0.65\n",
      "Лучшие параметры сетки: {'penalty': 'l1'}\n",
      "\n",
      "Метрики полученные на тестовой выборке:\n",
      "Параметр f1-мера : 0.68\n",
      "Параметр accuracy : 0.76\n",
      "Параметр recall : 0.70\n",
      "Параметр presion : 0.66\n",
      "Параметр aur_roc_score : 0.83\n"
     ]
    },
    {
     "data": {
      "image/png": "[encoded data removed]",
      "text/plain": [
       "<Figure size 432x288 with 2 Axes>"
      ]
     },
     "metadata": {
      "needs_background": "light"
     },
     "output_type": "display_data"
    },
    {
     "data": {
      "image/png": "[encoded data removed]",
      "text/plain": [
       "<Figure size 432x288 with 1 Axes>"
      ]
     },
     "metadata": {
      "needs_background": "light"
     },
     "output_type": "display_data"
    }
   ],
   "source": [
    "model.start_preprocess(ohe=True, scaler=True)\n",
    "model.linear_regression('balanced')"
   ]
  },
  {
   "cell_type": "code",
   "execution_count": 15,
   "metadata": {},
   "outputs": [
    {
     "name": "stdout",
     "output_type": "stream",
     "text": [
      "\n",
      "-------------------------------- Перекодировано ohe --------------------------------\n",
      "\n",
      "\n",
      "------------------------------ Данные смасштабированы ------------------------------\n",
      "\n",
      "\n",
      "---------------------------------- Дерево Решений ----------------------------------\n",
      "\n",
      "Лучшее f1-мера полученная на кросс-валидации: 0.60\n",
      "Лучшие параметры сетки: {'max_depth': 6, 'min_samples_leaf': 9}\n",
      "\n",
      "Метрики полученные на тестовой выборке:\n",
      "Параметр f1-мера : 0.67\n",
      "Параметр accuracy : 0.75\n",
      "Параметр recall : 0.68\n",
      "Параметр presion : 0.66\n",
      "Параметр aur_roc_score : 0.82\n"
     ]
    },
    {
     "data": {
      "image/png": "[encoded data removed]",
      "text/plain": [
       "<Figure size 432x288 with 2 Axes>"
      ]
     },
     "metadata": {
      "needs_background": "light"
     },
     "output_type": "display_data"
    },
    {
     "data": {
      "image/png": "[encoded data removed]",
      "text/plain": [
       "<Figure size 432x288 with 1 Axes>"
      ]
     },
     "metadata": {
      "needs_background": "light"
     },
     "output_type": "display_data"
    }
   ],
   "source": [
    "model.start_preprocess(scaler=True, ohe=True)\n",
    "model.tree_classifier('balanced')"
   ]
  },
  {
   "cell_type": "code",
   "execution_count": 16,
   "metadata": {},
   "outputs": [
    {
     "name": "stdout",
     "output_type": "stream",
     "text": [
      "\n",
      "------------------------ Перекодировано порядковым способом ------------------------\n",
      "\n",
      "\n",
      "------------------------------ Данные смасштабированы ------------------------------\n",
      "\n",
      "\n",
      "----------------------------------- Случайный лес ----------------------------------\n",
      "\n",
      "Лучшее f1-мера полученная на кросс-валидации: 0.63\n",
      "Лучшие параметры сетки: {'max_depth': 4, 'min_samples_leaf': 1, 'n_estimators': 60}\n",
      "\n",
      "Метрики полученные на тестовой выборке:\n",
      "Параметр f1-мера : 0.58\n",
      "Параметр accuracy : 0.75\n",
      "Параметр recall : 0.81\n",
      "Параметр presion : 0.45\n",
      "Параметр aur_roc_score : 0.80\n"
     ]
    },
    {
     "data": {
      "image/png": "[encoded data removed]",
      "text/plain": [
       "<Figure size 432x288 with 2 Axes>"
      ]
     },
     "metadata": {
      "needs_background": "light"
     },
     "output_type": "display_data"
    },
    {
     "data": {
      "image/png": "[encoded data removed]",
      "text/plain": [
       "<Figure size 432x288 with 1 Axes>"
      ]
     },
     "metadata": {
      "needs_background": "light"
     },
     "output_type": "display_data"
    }
   ],
   "source": [
    "model.start_preprocess(ord_enc=True, scaler=True) \n",
    "model.forest_classifier('balanced')"
   ]
  },
  {
   "cell_type": "code",
   "execution_count": 69,
   "metadata": {},
   "outputs": [],
   "source": [
    "\n",
    "class Predict_Business_metrics(Business_metrics):\n",
    "    def __init__(self):\n",
    "        super().__init__()\n",
    "        self.name = '' \n",
    "    \n",
    "    @decoratore_print_separator('Предсказанные значения')\n",
    "    def start_profit_model(self, model : Model_grid, predict : str, text=False, calculate_column='is_canceled', del_after=True):\n",
    "        if text:\n",
    "            print(text)\n",
    "        self.name = model.name\n",
    "        self.df = model.main.copy()\n",
    "        self.calculate_profit(calculate_column, del_after, predict=predict)\n",
    "    \n",
    "    @decoratore_print_separator('Предсказания на случайно модели')\n",
    "    def random_profit(self, model : Model_grid, predict : str, text=False, calculate_column='is_canceled', del_after=True):\n",
    "        if text:\n",
    "            print(text)\n",
    "        self.name = model.name\n",
    "        self.df = model.main.copy()\n",
    "        self.df['predict_random'] = 1\n",
    "        self.calculate_profit(calculate_column, del_after, predict=predict)\n",
    "        \n",
    "    @decoratore_print_separator('Предсказания с помощью метода bootstrap')\n",
    "    def bootstrap_function(self, model : Model_grid, predict: str):\n",
    "        self.df = model.main.copy()\n",
    "        predict_boot = self.df.apply(self.calculate_profit_apply, axis=1, predict=predict)\n",
    "        real_boot = self.df.apply(self.calculate_profit_apply, axis=1, predict=False)\n",
    "        values = []\n",
    "        per_values = []\n",
    "        state=np.random.RandomState(333)\n",
    "        for _ in range(1000):\n",
    "            predict_sum = predict_boot.sample(frac=1, replace=True, random_state=state).sum()\n",
    "            real_sum = real_boot.sample(frac=1, replace=True, random_state=state).sum()\n",
    "            values.append(predict_sum - real_sum)\n",
    "            per_values.append(predict_sum / real_sum - 1)\n",
    "        values = pd.Series(values)\n",
    "        per_values = pd.Series(per_values)\n",
    "        bad_var = len(values.loc[values<400000]) / len(values)\n",
    "        per_values = per_values.mean()\n",
    "        print(f'Средне предсказанное за рассматриваемый период(8мес) {values.mean()/1_000_000:.2f} млн. руб')\n",
    "        mean_profit = values.mean()*1.5 / 1_000_000\n",
    "        print(f'Средне предсказанное увеличение выручки в год {mean_profit:.2f} млн. руб')\n",
    "        print(f'Увеличение выручки в % : {per_values:.2%}')\n",
    "        # Так как выборка за 8месяцев, а не за год, то не знаю на сколько корректно выводить такие данные\n",
    "        # print(f'99 квантиль: {values.quantile(.99):.1f}')\n",
    "        # print(f'01 квантиль: {values.quantile(.01):.1f}')\n",
    "        # print(f'Шанс получить убытки: {bad_var:.2%}')"
   ]
  },
  {
   "cell_type": "code",
   "execution_count": 71,
   "metadata": {},
   "outputs": [
    {
     "name": "stdout",
     "output_type": "stream",
     "text": [
      "\n",
      "---------------------- Фактические значения  в тестовой выборки---------------------\n",
      "\n",
      "Общая выручка за рассмартиваемый период(8мес): 32.61 млн. руб\n",
      "Расчетная выручка за год: 48.91 млн. руб\n",
      "Средняя выручка на одного постояльца в год: 1509.15 руб\n",
      "Процент отказов: 38.85%\n",
      "\n",
      "-------------------------- Предсказания на случайно модели -------------------------\n",
      "\n",
      "Предсказали сплошные отказы\n",
      "Общая выручка за рассмартиваемый период(8мес): 59.20 млн. руб\n",
      "Расчетная выручка за год: 88.80 млн. руб\n",
      "Средняя выручка на одного постояльца в год: 2739.75 руб\n",
      "Предсказанное увеличение выручки в год: 39.89 млн.руб\n",
      "Процент предсказанных отказов: 100.00%\n"
     ]
    }
   ],
   "source": [
    "Predict_Business_metrics().start_profit_hotel(test)\n",
    "Predict_Business_metrics().random_profit(model, 'predict_random', 'Предсказали сплошные отказы')"
   ]
  },
  {
   "cell_type": "code",
   "execution_count": 72,
   "metadata": {},
   "outputs": [
    {
     "name": "stdout",
     "output_type": "stream",
     "text": [
      "\n",
      "------------------------------ Предсказанные значения ------------------------------\n",
      "\n",
      "Логистическая регрессия\n",
      "Общая выручка за рассмартиваемый период(8мес): 50.48 млн. руб\n",
      "Расчетная выручка за год: 75.73 млн. руб\n",
      "Средняя выручка на одного постояльца в год: 2336.33 руб\n",
      "Предсказанное увеличение выручки в год: 26.81 млн.руб\n",
      "Процент предсказанных отказов: 36.65%\n",
      "\n",
      "---------------------- Предсказания с помощью метода bootstrap ---------------------\n",
      "\n",
      "Средне предсказанное за рассматриваемый период(8мес) 17.83 млн. руб\n",
      "Средне предсказанное увеличение выручки в год 26.74 млн. руб\n",
      "Увеличение выручки в % : 54.65%\n"
     ]
    }
   ],
   "source": [
    "Predict_Business_metrics().start_profit_model(model, 'predict_logistic', 'Логистическая регрессия')\n",
    "Predict_Business_metrics().bootstrap_function(model, 'predict_logistic')"
   ]
  },
  {
   "cell_type": "markdown",
   "metadata": {},
   "source": [
    "Удивлен, но лучший результат показала Логистическая регрессия и худший случайный лес...  \n",
    "В целом качество модели хорошее.\n",
    "\n",
    "p.s. пробовал с разными параметрам, масштабирование/удалением(разве что лес не все вариант перебрал) : Чтоб не удлинять и без того длинный проект: удалил ячейки  "
   ]
  },
  {
   "cell_type": "markdown",
   "metadata": {},
   "source": [
    "### Шаг 5. Опишите портрет «ненадёжного» клиента"
   ]
  },
  {
   "cell_type": "code",
   "execution_count": 19,
   "metadata": {},
   "outputs": [
    {
     "data": {
      "text/html": [
       "<div>\n",
       "<style scoped>\n",
       "    .dataframe tbody tr th:only-of-type {\n",
       "        vertical-align: middle;\n",
       "    }\n",
       "\n",
       "    .dataframe tbody tr th {\n",
       "        vertical-align: top;\n",
       "    }\n",
       "\n",
       "    .dataframe thead th {\n",
       "        text-align: right;\n",
       "    }\n",
       "</style>\n",
       "<table border=\"1\" class=\"dataframe\">\n",
       "  <thead>\n",
       "    <tr style=\"text-align: right;\">\n",
       "      <th></th>\n",
       "      <th>is_canceled</th>\n",
       "      <th>lead_time</th>\n",
       "      <th>month</th>\n",
       "      <th>stays_in_weekend_nights</th>\n",
       "      <th>stays_in_week_nights</th>\n",
       "      <th>adults</th>\n",
       "      <th>children</th>\n",
       "      <th>babies</th>\n",
       "      <th>is_repeated_guest</th>\n",
       "      <th>previous_cancellations</th>\n",
       "      <th>...</th>\n",
       "      <th>booking_changes</th>\n",
       "      <th>days_in_waiting_list</th>\n",
       "      <th>required_car_parking_spaces</th>\n",
       "      <th>total_of_special_requests</th>\n",
       "      <th>weekday</th>\n",
       "      <th>proba_logistic</th>\n",
       "      <th>predict_tree</th>\n",
       "      <th>proba_tree</th>\n",
       "      <th>predict_forest</th>\n",
       "      <th>proba_forest</th>\n",
       "    </tr>\n",
       "    <tr>\n",
       "      <th>predict_logistic</th>\n",
       "      <th></th>\n",
       "      <th></th>\n",
       "      <th></th>\n",
       "      <th></th>\n",
       "      <th></th>\n",
       "      <th></th>\n",
       "      <th></th>\n",
       "      <th></th>\n",
       "      <th></th>\n",
       "      <th></th>\n",
       "      <th></th>\n",
       "      <th></th>\n",
       "      <th></th>\n",
       "      <th></th>\n",
       "      <th></th>\n",
       "      <th></th>\n",
       "      <th></th>\n",
       "      <th></th>\n",
       "      <th></th>\n",
       "      <th></th>\n",
       "      <th></th>\n",
       "    </tr>\n",
       "  </thead>\n",
       "  <tbody>\n",
       "    <tr>\n",
       "      <th>0</th>\n",
       "      <td>0.209857</td>\n",
       "      <td>76.114791</td>\n",
       "      <td>4.357668</td>\n",
       "      <td>0.860420</td>\n",
       "      <td>2.311352</td>\n",
       "      <td>1.831880</td>\n",
       "      <td>0.072664</td>\n",
       "      <td>0.007159</td>\n",
       "      <td>0.047777</td>\n",
       "      <td>0.014903</td>\n",
       "      <td>...</td>\n",
       "      <td>0.301953</td>\n",
       "      <td>0.183656</td>\n",
       "      <td>0.071933</td>\n",
       "      <td>0.893683</td>\n",
       "      <td>2.901427</td>\n",
       "      <td>0.224136</td>\n",
       "      <td>0.160376</td>\n",
       "      <td>0.256795</td>\n",
       "      <td>0.035504</td>\n",
       "      <td>0.347166</td>\n",
       "    </tr>\n",
       "    <tr>\n",
       "      <th>1</th>\n",
       "      <td>0.697197</td>\n",
       "      <td>134.704352</td>\n",
       "      <td>4.802004</td>\n",
       "      <td>0.880798</td>\n",
       "      <td>2.389763</td>\n",
       "      <td>1.909841</td>\n",
       "      <td>0.102534</td>\n",
       "      <td>0.002357</td>\n",
       "      <td>0.003031</td>\n",
       "      <td>0.005893</td>\n",
       "      <td>...</td>\n",
       "      <td>0.069450</td>\n",
       "      <td>0.398350</td>\n",
       "      <td>0.000000</td>\n",
       "      <td>0.250021</td>\n",
       "      <td>3.159020</td>\n",
       "      <td>0.730887</td>\n",
       "      <td>0.752925</td>\n",
       "      <td>0.648877</td>\n",
       "      <td>0.527485</td>\n",
       "      <td>0.555074</td>\n",
       "    </tr>\n",
       "  </tbody>\n",
       "</table>\n",
       "<p>2 rows × 21 columns</p>\n",
       "</div>"
      ],
      "text/plain": [
       "                  is_canceled   lead_time     month  stays_in_weekend_nights  \\\n",
       "predict_logistic                                                               \n",
       "0                    0.209857   76.114791  4.357668                 0.860420   \n",
       "1                    0.697197  134.704352  4.802004                 0.880798   \n",
       "\n",
       "                  stays_in_week_nights    adults  children    babies  \\\n",
       "predict_logistic                                                       \n",
       "0                             2.311352  1.831880  0.072664  0.007159   \n",
       "1                             2.389763  1.909841  0.102534  0.002357   \n",
       "\n",
       "                  is_repeated_guest  previous_cancellations  ...  \\\n",
       "predict_logistic                                             ...   \n",
       "0                          0.047777                0.014903  ...   \n",
       "1                          0.003031                0.005893  ...   \n",
       "\n",
       "                  booking_changes  days_in_waiting_list  \\\n",
       "predict_logistic                                          \n",
       "0                        0.301953              0.183656   \n",
       "1                        0.069450              0.398350   \n",
       "\n",
       "                  required_car_parking_spaces  total_of_special_requests  \\\n",
       "predict_logistic                                                           \n",
       "0                                    0.071933                   0.893683   \n",
       "1                                    0.000000                   0.250021   \n",
       "\n",
       "                   weekday  proba_logistic  predict_tree  proba_tree  \\\n",
       "predict_logistic                                                       \n",
       "0                 2.901427        0.224136      0.160376    0.256795   \n",
       "1                 3.159020        0.730887      0.752925    0.648877   \n",
       "\n",
       "                  predict_forest  proba_forest  \n",
       "predict_logistic                                \n",
       "0                       0.035504      0.347166  \n",
       "1                       0.527485      0.555074  \n",
       "\n",
       "[2 rows x 21 columns]"
      ]
     },
     "execution_count": 19,
     "metadata": {},
     "output_type": "execute_result"
    }
   ],
   "source": [
    "columns = list(model.main.columns).remove('predict_logistic')\n",
    "model.main.groupby(['predict_logistic']).mean()"
   ]
  },
  {
   "cell_type": "code",
   "execution_count": 20,
   "metadata": {},
   "outputs": [
    {
     "data": {
      "image/png": "[encoded data removed]",
      "text/plain": [
       "<Figure size 504x288 with 1 Axes>"
      ]
     },
     "metadata": {
      "needs_background": "light"
     },
     "output_type": "display_data"
    },
    {
     "data": {
      "image/png": "[encoded data removed]",
      "text/plain": [
       "<Figure size 504x288 with 1 Axes>"
      ]
     },
     "metadata": {
      "needs_background": "light"
     },
     "output_type": "display_data"
    },
    {
     "data": {
      "image/png": "[encoded data removed]",
      "text/plain": [
       "<Figure size 504x288 with 1 Axes>"
      ]
     },
     "metadata": {
      "needs_background": "light"
     },
     "output_type": "display_data"
    },
    {
     "data": {
      "image/png": "[encoded data removed]",
      "text/plain": [
       "<Figure size 504x288 with 1 Axes>"
      ]
     },
     "metadata": {
      "needs_background": "light"
     },
     "output_type": "display_data"
    }
   ],
   "source": [
    "df_with_bad_boys = model.main.query('predict_logistic == 1')\n",
    "df_with_bad_boys_real = model.main.query('is_canceled == 1')\n",
    "df_with_good_boys_real = model.main.query('is_canceled == 0')\n",
    "list_for_viz = [['lead_time', 'Дата бронирования - дата заезда', None],\n",
    "                ['total_of_special_requests', 'Кол-во специальных отметок', 5],\n",
    "                ['required_car_parking_spaces', 'Наличие машины',2],\n",
    "                ['booking_changes', 'Изменения', 6]]\n",
    "for col,titl,binans in list_for_viz:\n",
    "    plt.figure(figsize=(7,4))\n",
    "    plt.hist(df_with_bad_boys[col], alpha=0.7, label='Ненадежные предсказанные постояльцы', bins=binans)\n",
    "    plt.hist(df_with_bad_boys_real[col], alpha=0.7, label='Ненадежные реальные постояльцы', bins=binans)\n",
    "    plt.hist(df_with_good_boys_real[col], alpha=0.2, label='Надежные постояльцы', color='black', bins=binans)\n",
    "    plt.title(titl)\n",
    "    plt.legend()\n",
    "    plt.show()"
   ]
  },
  {
   "cell_type": "markdown",
   "metadata": {},
   "source": [
    "- Если человек бронирует за долго при этом очень длительное время не подтверждает бронь: зачастую клиент ненадежный\n",
    "- Люди которые планируют приехать на машине, как правило не отменяют бронь\n",
    "- Наличие специальных отметок, как правило говорит в пользу, того что человек приедет(скорее всего отметки связаны с тем что человек переживает, звонит и что то уточняет, соответственно такое поведение подтверждает серьезность намерений), а также такие люди вносят изменения в бронь\n",
    "- Если человек уже приезжал, то это говорит в пользу его надежности  "
   ]
  },
  {
   "cell_type": "markdown",
   "metadata": {},
   "source": [
    "### Шаг 6. Напишите общий вывод"
   ]
  },
  {
   "cell_type": "markdown",
   "metadata": {},
   "source": [
    "- Введение депозита за спрогнозировано отмененную бронь потенциально увеличит прибыль компании, однако стоит отметить, что при таких условиях гораздо меньше будут бронировать номеров, а спрогнозировать на сколько меньше: на данный момент мы не можем, т.к. у нас нет статистики по такому роду информации.\n",
    "- Также в тех.задание, не очень понятно какое кол-во убытков несет компания, в случае отмены бронирования\n",
    "\n",
    "Рекомендации:\n",
    "- Не смотря на то, что обученная модель прогнозирует довольно серьезное увеличение прибыли, я бы все таки рекомендовал отказаться от использования модели для прогнозирования: \n",
    "  - Если у одного снимут деньги за бронь, а другого нет, то такие действия несут в себе серьезные репутационные риски  \n",
    "  - Модель не учитывает сколько людей просто напросто не будет бронировать.\n",
    "- Ввести прозрачную политику бронирования, т.к. ненадежные клиенты имеют свойство бронировать за долгое время и после этого длительное время не подтверждать бронь, то в первую очередь стоит установить лимит на срок подтверждения брони, ввести депозит в случае отмены брони менее чем за 1-2недели до компании, тем самым защитив себя от незапланированных расходов.  \n",
    "- Если клиент уже был, применять к нему более лояльные правила."
   ]
  }
 ],
 "metadata": {
  "kernelspec": {
   "display_name": "Python 3 (ipykernel)",
   "language": "python",
   "name": "python3"
  },
  "language_info": {
   "codemirror_mode": {
    "name": "ipython",
    "version": 3
   },
   "file_extension": ".py",
   "mimetype": "text/x-python",
   "name": "python",
   "nbconvert_exporter": "python",
   "pygments_lexer": "ipython3",
   "version": "3.9.7"
  },
  "toc": {
   "base_numbering": 1,
   "nav_menu": {},
   "number_sections": true,
   "sideBar": true,
   "skip_h1_title": true,
   "title_cell": "Table of Contents",
   "title_sidebar": "Contents",
   "toc_cell": false,
   "toc_position": {},
   "toc_section_display": true,
   "toc_window_display": false
  }
 },
 "nbformat": 4,
 "nbformat_minor": 2
}
